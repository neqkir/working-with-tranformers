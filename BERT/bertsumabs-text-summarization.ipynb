{
  "nbformat": 4,
  "nbformat_minor": 0,
  "metadata": {
    "colab": {
      "name": "Untitled3.ipynb",
      "provenance": [],
      "authorship_tag": "ABX9TyMtmtzQA0D5Cn9lsQYrNH/W",
      "include_colab_link": true
    },
    "kernelspec": {
      "name": "python3",
      "display_name": "Python 3"
    },
    "language_info": {
      "name": "python"
    }
  },
  "cells": [
    {
      "cell_type": "markdown",
      "metadata": {
        "id": "view-in-github",
        "colab_type": "text"
      },
      "source": [
        "<a href=\"https://colab.research.google.com/github/neqkir/working-with-tranformers/blob/main/BERT/bertsumabs-text-summarization.ipynb\" target=\"_parent\"><img src=\"https://colab.research.google.com/assets/colab-badge.svg\" alt=\"Open In Colab\"/></a>"
      ]
    },
    {
      "cell_type": "code",
      "execution_count": null,
      "metadata": {
        "id": "wDIqBilErXYC"
      },
      "outputs": [],
      "source": [
        "!pip install --upgrade \n",
        "!pip install -q git+https://github.com/microsoft/nlp-recipes.git\n",
        "!pip install jsonlines\n",
        "!pip install pyrouge\n",
        "!pip install scrapbook\n",
        "\n",
        "import os\n",
        "import shutil\n",
        "import sys\n",
        "from tempfile import TemporaryDirectory\n",
        "import torch\n",
        "import nltk\n",
        "from nltk import tokenize\n",
        "import pandas as pd\n",
        "import pprint\n",
        "import scrapbook as sb\n",
        "\n",
        "nlp_path = os.path.abspath(\"../../\")\n",
        "if nlp_path not in sys.path:\n",
        "    sys.path.insert(0, nlp_path)\n",
        "\n",
        "from utils_nlp import models\n",
        "from utils_nlp.models import transformers \n",
        "from utils_nlp.models.transformers.abstractive_summarization_bertsum \\\n",
        "     import BertSumAbs, BertSumAbsProcessor\n",
        "from utils_nlp.models.transformers.datasets import SummarizationDataset\n",
        "from utils_nlp import eval\n",
        "from utils_nlp.eval import rouge\n",
        "from utils_nlp.dataset.cnndm import CNNDMSummarizationDataset\n",
        "from utils_nlp.eval import compute_rouge_python"
      ]
    }
  ]
}